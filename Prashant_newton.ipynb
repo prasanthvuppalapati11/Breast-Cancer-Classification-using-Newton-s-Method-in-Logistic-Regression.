{
  "cells": [
    {
      "cell_type": "code",
      "execution_count": 3,
      "metadata": {
        "id": "xD3Thq6OfLXN"
      },
      "outputs": [],
      "source": [
        "import numpy as np\n",
        "import pandas\n",
        "from sklearn.model_selection import train_test_split as tts\n",
        "from sklearn.metrics import accuracy_score as acc_score\n",
        "from sklearn.linear_model import LogisticRegression as LogReg"
      ]
    },
    {
      "cell_type": "code",
      "execution_count": 4,
      "metadata": {
        "id": "nyVsAh_yL83M"
      },
      "outputs": [],
      "source": [
        "class NewtonClf:\n",
        "    def __init__(self, itr=10):\n",
        "        self.itr = itr\n",
        "        self.w = None\n",
        "\n",
        "    def _sig(self, v):\n",
        "        return 1 / (1 + np.exp(-v))\n",
        "\n",
        "    def _loss(self, y, p):\n",
        "        p = np.clip(p, 1e-13, 1 - 1e-13)\n",
        "        return -np.mean(y * np.log(p) + (1 - y) * np.log(1 - p))\n",
        "\n",
        "    def _H(self, X, p):\n",
        "        D = np.diagflat(p * (1 - p))\n",
        "        return X.T @ D @ X\n",
        "\n",
        "    def fit(self, X, y):\n",
        "        X = np.hstack((np.ones((X.shape[0], 1)), X))\n",
        "        self.w = np.zeros(X.shape[1])\n",
        "\n",
        "        for i in range(self.itr):\n",
        "            p = self._sig(X @ self.w)\n",
        "            l = self._loss(y, p)\n",
        "            print(f\"Iter {i+1}/{self.itr}, Mean Absolute Error: {l:.6f}\")\n",
        "            g = X.T @ (p - y) / y.size\n",
        "            H = self._H(X, p)\n",
        "            self.w -= np.linalg.inv(H) @ g\n",
        "\n",
        "    def pred(self, X):\n",
        "        X = np.hstack((np.ones((X.shape[0], 1)), X))\n",
        "        return (self._sig(X @ self.w) > 0.5).astype(int)\n"
      ]
    },
    {
      "cell_type": "code",
      "execution_count": 5,
      "metadata": {
        "id": "R6F83kyGL83M"
      },
      "outputs": [],
      "source": [
        "df = pandas.read_csv('wdbc.data', header=None)\n",
        "\n",
        "feat = df.iloc[:, 2:].values\n",
        "lbl = df.iloc[:, 1].factorize()[0]\n"
      ]
    },
    {
      "cell_type": "code",
      "execution_count": 6,
      "metadata": {
        "colab": {
          "base_uri": "https://localhost:8080/"
        },
        "id": "DtclWZxvL83M",
        "outputId": "7712692d-760f-49d9-8bf3-50c261a054f7"
      },
      "outputs": [
        {
          "output_type": "stream",
          "name": "stdout",
          "text": [
            "Iter 1/10, Mean Absolute Error: 0.693147\n",
            "Iter 2/10, Mean Absolute Error: 0.691399\n",
            "Iter 3/10, Mean Absolute Error: 0.689658\n",
            "Iter 4/10, Mean Absolute Error: 0.687925\n",
            "Iter 5/10, Mean Absolute Error: 0.686200\n",
            "Iter 6/10, Mean Absolute Error: 0.684482\n",
            "Iter 7/10, Mean Absolute Error: 0.682771\n",
            "Iter 8/10, Mean Absolute Error: 0.681068\n",
            "Iter 9/10, Mean Absolute Error: 0.679373\n",
            "Iter 10/10, Mean Absolute Error: 0.677684\n",
            "Iter 1/10, Mean Absolute Error: 0.693147\n",
            "Iter 2/10, Mean Absolute Error: 0.691408\n",
            "Iter 3/10, Mean Absolute Error: 0.689677\n",
            "Iter 4/10, Mean Absolute Error: 0.687953\n",
            "Iter 5/10, Mean Absolute Error: 0.686237\n",
            "Iter 6/10, Mean Absolute Error: 0.684529\n",
            "Iter 7/10, Mean Absolute Error: 0.682827\n",
            "Iter 8/10, Mean Absolute Error: 0.681133\n",
            "Iter 9/10, Mean Absolute Error: 0.679447\n",
            "Iter 10/10, Mean Absolute Error: 0.677767\n",
            "Iter 1/10, Mean Absolute Error: 0.693147\n",
            "Iter 2/10, Mean Absolute Error: 0.691426\n",
            "Iter 3/10, Mean Absolute Error: 0.689712\n",
            "Iter 4/10, Mean Absolute Error: 0.688006\n",
            "Iter 5/10, Mean Absolute Error: 0.686307\n",
            "Iter 6/10, Mean Absolute Error: 0.684615\n",
            "Iter 7/10, Mean Absolute Error: 0.682931\n",
            "Iter 8/10, Mean Absolute Error: 0.681254\n",
            "Iter 9/10, Mean Absolute Error: 0.679584\n",
            "Iter 10/10, Mean Absolute Error: 0.677922\n",
            "Iter 1/10, Mean Absolute Error: 0.693147\n",
            "Iter 2/10, Mean Absolute Error: 0.691417\n",
            "Iter 3/10, Mean Absolute Error: 0.689694\n",
            "Iter 4/10, Mean Absolute Error: 0.687979\n",
            "Iter 5/10, Mean Absolute Error: 0.686271\n",
            "Iter 6/10, Mean Absolute Error: 0.684570\n",
            "Iter 7/10, Mean Absolute Error: 0.682877\n",
            "Iter 8/10, Mean Absolute Error: 0.681191\n",
            "Iter 9/10, Mean Absolute Error: 0.679513\n",
            "Iter 10/10, Mean Absolute Error: 0.677842\n",
            "Iter 1/10, Mean Absolute Error: 0.693147\n",
            "Iter 2/10, Mean Absolute Error: 0.691436\n",
            "Iter 3/10, Mean Absolute Error: 0.689731\n",
            "Iter 4/10, Mean Absolute Error: 0.688035\n",
            "Iter 5/10, Mean Absolute Error: 0.686346\n",
            "Iter 6/10, Mean Absolute Error: 0.684664\n",
            "Iter 7/10, Mean Absolute Error: 0.682989\n",
            "Iter 8/10, Mean Absolute Error: 0.681322\n",
            "Iter 9/10, Mean Absolute Error: 0.679662\n",
            "Iter 10/10, Mean Absolute Error: 0.678008\n",
            "Iter 1/10, Mean Absolute Error: 0.693147\n",
            "Iter 2/10, Mean Absolute Error: 0.691411\n",
            "Iter 3/10, Mean Absolute Error: 0.689682\n",
            "Iter 4/10, Mean Absolute Error: 0.687960\n",
            "Iter 5/10, Mean Absolute Error: 0.686246\n",
            "Iter 6/10, Mean Absolute Error: 0.684540\n",
            "Iter 7/10, Mean Absolute Error: 0.682841\n",
            "Iter 8/10, Mean Absolute Error: 0.681149\n",
            "Iter 9/10, Mean Absolute Error: 0.679464\n",
            "Iter 10/10, Mean Absolute Error: 0.677787\n",
            "Iter 1/10, Mean Absolute Error: 0.693147\n",
            "Iter 2/10, Mean Absolute Error: 0.691390\n",
            "Iter 3/10, Mean Absolute Error: 0.689640\n",
            "Iter 4/10, Mean Absolute Error: 0.687897\n",
            "Iter 5/10, Mean Absolute Error: 0.686162\n",
            "Iter 6/10, Mean Absolute Error: 0.684435\n",
            "Iter 7/10, Mean Absolute Error: 0.682716\n",
            "Iter 8/10, Mean Absolute Error: 0.681003\n",
            "Iter 9/10, Mean Absolute Error: 0.679298\n",
            "Iter 10/10, Mean Absolute Error: 0.677601\n",
            "Iter 1/10, Mean Absolute Error: 0.693147\n",
            "Iter 2/10, Mean Absolute Error: 0.691420\n",
            "Iter 3/10, Mean Absolute Error: 0.689700\n",
            "Iter 4/10, Mean Absolute Error: 0.687987\n",
            "Iter 5/10, Mean Absolute Error: 0.686282\n",
            "Iter 6/10, Mean Absolute Error: 0.684584\n",
            "Iter 7/10, Mean Absolute Error: 0.682894\n",
            "Iter 8/10, Mean Absolute Error: 0.681211\n",
            "Iter 9/10, Mean Absolute Error: 0.679535\n",
            "Iter 10/10, Mean Absolute Error: 0.677867\n",
            "Iter 1/10, Mean Absolute Error: 0.693147\n",
            "Iter 2/10, Mean Absolute Error: 0.691427\n",
            "Iter 3/10, Mean Absolute Error: 0.689715\n",
            "Iter 4/10, Mean Absolute Error: 0.688010\n",
            "Iter 5/10, Mean Absolute Error: 0.686313\n",
            "Iter 6/10, Mean Absolute Error: 0.684623\n",
            "Iter 7/10, Mean Absolute Error: 0.682940\n",
            "Iter 8/10, Mean Absolute Error: 0.681264\n",
            "Iter 9/10, Mean Absolute Error: 0.679596\n",
            "Iter 10/10, Mean Absolute Error: 0.677935\n",
            "Iter 1/10, Mean Absolute Error: 0.693147\n",
            "Iter 2/10, Mean Absolute Error: 0.691414\n",
            "Iter 3/10, Mean Absolute Error: 0.689689\n",
            "Iter 4/10, Mean Absolute Error: 0.687971\n",
            "Iter 5/10, Mean Absolute Error: 0.686260\n",
            "Iter 6/10, Mean Absolute Error: 0.684557\n",
            "Iter 7/10, Mean Absolute Error: 0.682861\n",
            "Iter 8/10, Mean Absolute Error: 0.681173\n",
            "Iter 9/10, Mean Absolute Error: 0.679492\n",
            "Iter 10/10, Mean Absolute Error: 0.677818\n",
            "Avg acc Custom: 0.962\n",
            "Avg acc SK: 0.945\n"
          ]
        }
      ],
      "source": [
        "n_iter = 10\n",
        "split_ratio = 0.2\n",
        "accs_nr = []\n",
        "\n",
        "nr_model = NewtonClf(n_iter)\n",
        "\n",
        "for _ in range(n_iter):\n",
        "    Xt, Xv, yt, yv = tts(feat, lbl, test_size=split_ratio)\n",
        "    nr_model.fit(Xt, yt)\n",
        "    preds = nr_model.pred(Xv)\n",
        "    accs_nr.append(acc_score(yv, preds))\n",
        "\n",
        "print(f\"Avg acc Custom: {np.mean(accs_nr):.3f}\")\n",
        "\n",
        "accs_sk = []\n",
        "sk_model = LogReg(solver='newton-cg')\n",
        "\n",
        "for _ in range(n_iter):\n",
        "    Xt, Xv, yt, yv = tts(feat, lbl, test_size=split_ratio)\n",
        "    sk_model.fit(Xt, yt)\n",
        "    preds_sk = sk_model.predict(Xv)\n",
        "    accs_sk.append(acc_score(yv, preds_sk))\n",
        "\n",
        "print(f\"Avg acc SK: {np.mean(accs_sk):.3f}\")\n"
      ]
    },
    {
      "cell_type": "code",
      "source": [
        "%%shell\n",
        "jupyter nbconvert --to html /content/Prashant.ipynb"
      ],
      "metadata": {
        "colab": {
          "base_uri": "https://localhost:8080/"
        },
        "id": "2TZzRTJuMBvk",
        "outputId": "d33ec92e-74bf-4249-bb85-4e93817b9e98"
      },
      "execution_count": 2,
      "outputs": [
        {
          "output_type": "stream",
          "name": "stdout",
          "text": [
            "[NbConvertApp] Converting notebook /content/Prashant.ipynb to html\n",
            "[NbConvertApp] Writing 592732 bytes to /content/Prashant.html\n"
          ]
        },
        {
          "output_type": "execute_result",
          "data": {
            "text/plain": []
          },
          "metadata": {},
          "execution_count": 2
        }
      ]
    },
    {
      "cell_type": "code",
      "source": [],
      "metadata": {
        "id": "kpg6jr1RMWDn"
      },
      "execution_count": null,
      "outputs": []
    }
  ],
  "metadata": {
    "colab": {
      "provenance": []
    },
    "kernelspec": {
      "display_name": "Python 3",
      "name": "python3"
    },
    "language_info": {
      "codemirror_mode": {
        "name": "ipython",
        "version": 3
      },
      "file_extension": ".py",
      "mimetype": "text/x-python",
      "name": "python",
      "nbconvert_exporter": "python",
      "pygments_lexer": "ipython3",
      "version": "3.8.17"
    }
  },
  "nbformat": 4,
  "nbformat_minor": 0
}